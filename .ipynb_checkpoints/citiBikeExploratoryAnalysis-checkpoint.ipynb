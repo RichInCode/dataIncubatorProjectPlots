{
 "cells": [
  {
   "cell_type": "markdown",
   "metadata": {},
   "source": [
    "We undergo an initial exploratory analysis of the CitiBike NYC bike rental program.  The goal here is to get an intial inspection of the data, look for interesting trends that may also require further study and analysis.  Ideas for further analysis are also presented, to be implemented at a later date.\n",
    "\n",
    " -Richard Petti\n",
    "\n",
    "First we generate a file list and load the files.  We store the contents into a list of dataframes, each element in the list corresponding to data from a different month (file)"
   ]
  },
  {
   "cell_type": "code",
   "execution_count": 1,
   "metadata": {
    "collapsed": false
   },
   "outputs": [],
   "source": [
    "import glob\n",
    "import pandas\n",
    "\n",
    "filelist = glob.glob(\"C:\\Users\\Rich\\Documents\\data\\*.csv\")\n",
    "\n",
    "dfList = []\n",
    "for item in filelist:\n",
    "    result = pandas.read_csv(item)\n",
    "    dfList.append(result)"
   ]
  },
  {
   "cell_type": "markdown",
   "metadata": {},
   "source": [
    "Now make a list of the available months of data based on the existing files, to be used in  a later plot"
   ]
  },
  {
   "cell_type": "code",
   "execution_count": 2,
   "metadata": {
    "collapsed": false
   },
   "outputs": [],
   "source": [
    "import datetime\n",
    "import os\n",
    "\n",
    "monthlist = []\n",
    "for item in filelist:\n",
    "    path, file = os.path.split(item)\n",
    "    try:\n",
    "        monthlist.append(datetime.datetime(int(file[0:4]), int(file[5:7]),1))\n",
    "    except ValueError:\n",
    "        monthlist.append(datetime.datetime(int(file[0:4]), int(file[4:6]),1))"
   ]
  },
  {
   "cell_type": "markdown",
   "metadata": {},
   "source": [
    "Now lets just view the format of the data and see what is available"
   ]
  },
  {
   "cell_type": "code",
   "execution_count": 3,
   "metadata": {
    "collapsed": false
   },
   "outputs": [
    {
     "data": {
      "text/html": [
       "<div>\n",
       "<table border=\"1\" class=\"dataframe\">\n",
       "  <thead>\n",
       "    <tr style=\"text-align: right;\">\n",
       "      <th></th>\n",
       "      <th>tripduration</th>\n",
       "      <th>starttime</th>\n",
       "      <th>stoptime</th>\n",
       "      <th>start station id</th>\n",
       "      <th>start station name</th>\n",
       "      <th>start station latitude</th>\n",
       "      <th>start station longitude</th>\n",
       "      <th>end station id</th>\n",
       "      <th>end station name</th>\n",
       "      <th>end station latitude</th>\n",
       "      <th>end station longitude</th>\n",
       "      <th>bikeid</th>\n",
       "      <th>usertype</th>\n",
       "      <th>birth year</th>\n",
       "      <th>gender</th>\n",
       "    </tr>\n",
       "  </thead>\n",
       "  <tbody>\n",
       "    <tr>\n",
       "      <th>0</th>\n",
       "      <td>634</td>\n",
       "      <td>2013-07-01 00:00:00</td>\n",
       "      <td>2013-07-01 00:10:34</td>\n",
       "      <td>164</td>\n",
       "      <td>E 47 St &amp; 2 Ave</td>\n",
       "      <td>40.753231</td>\n",
       "      <td>-73.970325</td>\n",
       "      <td>504</td>\n",
       "      <td>1 Ave &amp; E 15 St</td>\n",
       "      <td>40.732219</td>\n",
       "      <td>-73.981656</td>\n",
       "      <td>16950</td>\n",
       "      <td>Customer</td>\n",
       "      <td>\\N</td>\n",
       "      <td>0</td>\n",
       "    </tr>\n",
       "    <tr>\n",
       "      <th>1</th>\n",
       "      <td>1547</td>\n",
       "      <td>2013-07-01 00:00:02</td>\n",
       "      <td>2013-07-01 00:25:49</td>\n",
       "      <td>388</td>\n",
       "      <td>W 26 St &amp; 10 Ave</td>\n",
       "      <td>40.749718</td>\n",
       "      <td>-74.002950</td>\n",
       "      <td>459</td>\n",
       "      <td>W 20 St &amp; 11 Ave</td>\n",
       "      <td>40.746745</td>\n",
       "      <td>-74.007756</td>\n",
       "      <td>19816</td>\n",
       "      <td>Customer</td>\n",
       "      <td>\\N</td>\n",
       "      <td>0</td>\n",
       "    </tr>\n",
       "    <tr>\n",
       "      <th>2</th>\n",
       "      <td>178</td>\n",
       "      <td>2013-07-01 00:01:04</td>\n",
       "      <td>2013-07-01 00:04:02</td>\n",
       "      <td>293</td>\n",
       "      <td>Lafayette St &amp; E 8 St</td>\n",
       "      <td>40.730287</td>\n",
       "      <td>-73.990765</td>\n",
       "      <td>237</td>\n",
       "      <td>E 11 St &amp; 2 Ave</td>\n",
       "      <td>40.730473</td>\n",
       "      <td>-73.986724</td>\n",
       "      <td>14548</td>\n",
       "      <td>Subscriber</td>\n",
       "      <td>1980</td>\n",
       "      <td>2</td>\n",
       "    </tr>\n",
       "    <tr>\n",
       "      <th>3</th>\n",
       "      <td>1580</td>\n",
       "      <td>2013-07-01 00:01:06</td>\n",
       "      <td>2013-07-01 00:27:26</td>\n",
       "      <td>531</td>\n",
       "      <td>Forsyth St &amp; Broome St</td>\n",
       "      <td>40.718939</td>\n",
       "      <td>-73.992663</td>\n",
       "      <td>499</td>\n",
       "      <td>Broadway &amp; W 60 St</td>\n",
       "      <td>40.769155</td>\n",
       "      <td>-73.981918</td>\n",
       "      <td>16063</td>\n",
       "      <td>Customer</td>\n",
       "      <td>\\N</td>\n",
       "      <td>0</td>\n",
       "    </tr>\n",
       "    <tr>\n",
       "      <th>4</th>\n",
       "      <td>757</td>\n",
       "      <td>2013-07-01 00:01:10</td>\n",
       "      <td>2013-07-01 00:13:47</td>\n",
       "      <td>382</td>\n",
       "      <td>University Pl &amp; E 14 St</td>\n",
       "      <td>40.734927</td>\n",
       "      <td>-73.992005</td>\n",
       "      <td>410</td>\n",
       "      <td>Suffolk St &amp; Stanton St</td>\n",
       "      <td>40.720664</td>\n",
       "      <td>-73.985180</td>\n",
       "      <td>19213</td>\n",
       "      <td>Subscriber</td>\n",
       "      <td>1986</td>\n",
       "      <td>1</td>\n",
       "    </tr>\n",
       "  </tbody>\n",
       "</table>\n",
       "</div>"
      ],
      "text/plain": [
       "   tripduration            starttime             stoptime  start station id  \\\n",
       "0           634  2013-07-01 00:00:00  2013-07-01 00:10:34               164   \n",
       "1          1547  2013-07-01 00:00:02  2013-07-01 00:25:49               388   \n",
       "2           178  2013-07-01 00:01:04  2013-07-01 00:04:02               293   \n",
       "3          1580  2013-07-01 00:01:06  2013-07-01 00:27:26               531   \n",
       "4           757  2013-07-01 00:01:10  2013-07-01 00:13:47               382   \n",
       "\n",
       "        start station name  start station latitude  start station longitude  \\\n",
       "0          E 47 St & 2 Ave               40.753231               -73.970325   \n",
       "1         W 26 St & 10 Ave               40.749718               -74.002950   \n",
       "2    Lafayette St & E 8 St               40.730287               -73.990765   \n",
       "3   Forsyth St & Broome St               40.718939               -73.992663   \n",
       "4  University Pl & E 14 St               40.734927               -73.992005   \n",
       "\n",
       "   end station id         end station name  end station latitude  \\\n",
       "0             504          1 Ave & E 15 St             40.732219   \n",
       "1             459         W 20 St & 11 Ave             40.746745   \n",
       "2             237          E 11 St & 2 Ave             40.730473   \n",
       "3             499       Broadway & W 60 St             40.769155   \n",
       "4             410  Suffolk St & Stanton St             40.720664   \n",
       "\n",
       "   end station longitude  bikeid    usertype birth year  gender  \n",
       "0             -73.981656   16950    Customer         \\N       0  \n",
       "1             -74.007756   19816    Customer         \\N       0  \n",
       "2             -73.986724   14548  Subscriber       1980       2  \n",
       "3             -73.981918   16063    Customer         \\N       0  \n",
       "4             -73.985180   19213  Subscriber       1986       1  "
      ]
     },
     "execution_count": 3,
     "metadata": {},
     "output_type": "execute_result"
    }
   ],
   "source": [
    "dfList[0].head()"
   ]
  },
  {
   "cell_type": "markdown",
   "metadata": {},
   "source": [
    "I suspect that the missing age/gender information is assocatied with being a customer, rather than a subscriber.  Verify this here.  Just check on first data file.  This could be a useful distinction."
   ]
  },
  {
   "cell_type": "code",
   "execution_count": 4,
   "metadata": {
    "collapsed": false
   },
   "outputs": [
    {
     "name": "stdout",
     "output_type": "stream",
     "text": [
      "no exceptions found, missing info corresponds to being a Customer rather than a Subscriber\n"
     ]
    }
   ],
   "source": [
    "foundone = 0\n",
    "\n",
    "for index, row in dfList[0].iterrows():\n",
    "    if row['gender']=='0' and row['usertype']=='Subscriber':\n",
    "        print 'found an exception to my assumption, found a Subscriber with gender 0'\n",
    "        foundone += 1\n",
    "    if row['usertype']=='Customer' and (row['gender']=='1' or row['gender']=='2'):\n",
    "        print 'found an exception to my assumption, found a Customer with a defined gender'\n",
    "        foundone += 1\n",
    "if foundone == 0:\n",
    "    print \"no exceptions found, missing info corresponds to being a Customer rather than a Subscriber\""
   ]
  },
  {
   "cell_type": "markdown",
   "metadata": {
    "collapsed": true
   },
   "source": [
    "Ok great, we confirmed that assumption.\n",
    "\n",
    "Let us get an idea of the demographic who uses the bike rentals.  Let us plot the montly use as a function of time for men (1) and women (2) separately (along with the undefined Customers)."
   ]
  },
  {
   "cell_type": "code",
   "execution_count": 3,
   "metadata": {
    "collapsed": false
   },
   "outputs": [],
   "source": [
    "rideCounts_male = []\n",
    "rideCounts_female = []\n",
    "rideCounts_other = []\n",
    "\n",
    "for item in dfList:\n",
    "    rideCounts_male.append( item[item['gender']==1]['tripduration'].count())\n",
    "    rideCounts_female.append( item[item['gender']==2]['tripduration'].count())\n",
    "    rideCounts_other.append( item[item['gender']==0]['tripduration'].count())"
   ]
  },
  {
   "cell_type": "code",
   "execution_count": 6,
   "metadata": {
    "collapsed": false
   },
   "outputs": [
    {
     "data": {
      "text/plain": [
       "<matplotlib.text.Text at 0x1e89908>"
      ]
     },
     "execution_count": 6,
     "metadata": {},
     "output_type": "execute_result"
    },
    {
     "data": {
      "image/png": "[encoded data removed]",
      "text/plain": [
       "<matplotlib.figure.Figure at 0xe0d6d2e8>"
      ]
     },
     "metadata": {},
     "output_type": "display_data"
    }
   ],
   "source": [
    "import matplotlib.pyplot as plt\n",
    "%matplotlib inline\n",
    "\n",
    "fig, ax = plt.subplots(figsize=(20,10))\n",
    "ax.plot(monthlist, rideCounts_male, 'bs', label='males')\n",
    "ax.plot(monthlist, rideCounts_female, 'r^', label='females')\n",
    "ax.plot(monthlist, rideCounts_other, 'g*', label='other')\n",
    "legend = ax.legend(loc='upper right', shadow=True)\n",
    "plt.ylabel('number of rides')\n",
    "plt.xlabel('date')"
   ]
  },
  {
   "cell_type": "markdown",
   "metadata": {},
   "source": [
    "A few general observations about the above plot...\n",
    "1) generally more than three as many male users as female\n",
    "2) nearly all users are subscribers (gender = other category)\n",
    "3) clearly observe the pattern of use due to weather (riding peaks in fall, lowest in winter)\n",
    "\n",
    "It would be useful to come up with a strategy to take out the weather dependence.  Maybe look at the ratio of male to female riders since the usage presumably scales equally with weather conditions.  Even better would be to get my hands on some weather data to come up with a seasonal model to take this out.  For now we look at the ratio."
   ]
  },
  {
   "cell_type": "code",
   "execution_count": 11,
   "metadata": {
    "collapsed": false
   },
   "outputs": [
    {
     "data": {
      "text/plain": [
       "<matplotlib.text.Text at 0xc6030f28>"
      ]
     },
     "execution_count": 11,
     "metadata": {},
     "output_type": "execute_result"
    },
    {
     "data": {
      "image/png": "[encoded data removed]",
      "text/plain": [
       "<matplotlib.figure.Figure at 0x4097c88>"
      ]
     },
     "metadata": {},
     "output_type": "display_data"
    }
   ],
   "source": [
    "import matplotlib.pyplot as plt\n",
    "%matplotlib inline\n",
    "rideCounts_ratio = []\n",
    "for i in range(0, len(rideCounts_male)):\n",
    "    rideCounts_ratio.append(float(rideCounts_male[i])/float(rideCounts_female[i]))\n",
    "\n",
    "fig, ax = plt.subplots(figsize=(20,10))\n",
    "ax.plot(monthlist, rideCounts_ratio, 'bs')\n",
    "ax.set_ylim([0,5])\n",
    "legend = ax.legend(loc='upper right', shadow=True)\n",
    "plt.ylabel('ratio of number of male to female rides')\n",
    "plt.xlabel('date')"
   ]
  },
  {
   "cell_type": "markdown",
   "metadata": {},
   "source": [
    "From the above plot, it looks like the effect of weather is still not taken out completely in the ratio.  Additionally there does not seem to be a strong indication of an increase or decrease in use over time, though the time span of the data is rather small.\n",
    "\n",
    "Lets look at the kind of age groups that use the service.  Ideally the calculation would be done in parallel for each month (file) which is a simple extension to the analsyis here, but for now I will only explore a single months worth of data (September 2013)."
   ]
  },
  {
   "cell_type": "code",
   "execution_count": 1,
   "metadata": {
    "collapsed": false
   },
   "outputs": [],
   "source": [
    "import glob\n",
    "import pandas\n",
    "\n",
    "filelist = glob.glob(\"C:\\Users\\Rich\\Documents\\data\\*.csv\")\n",
    "\n",
    "result = pandas.read_csv(filelist[2],na_values='\\\\N')"
   ]
  },
  {
   "cell_type": "markdown",
   "metadata": {},
   "source": [
    "First break the data down into genders.  I want to get an idea of the age distribution and how that may differ depending on gender."
   ]
  },
  {
   "cell_type": "code",
   "execution_count": 50,
   "metadata": {
    "collapsed": false
   },
   "outputs": [],
   "source": [
    "import matplotlib.pyplot as plt\n",
    "%matplotlib inline\n",
    "\n",
    "df_male = result[result.gender==1]\n",
    "df_female = result[result.gender==2]\n",
    "df_other = result[result.gender==0]"
   ]
  },
  {
   "cell_type": "code",
   "execution_count": 60,
   "metadata": {
    "collapsed": false
   },
   "outputs": [],
   "source": [
    "df_male_by = df_male['birth year'].value_counts()\n",
    "df_female_by = df_female['birth year'].value_counts()\n",
    "df_other_by = df_other['birth year'].value_counts()\n",
    "#print df_male_by.index.values\n",
    "\n",
    "df_male_by = df_male_by/sum(df_male_by)\n",
    "df_female_by = df_female_by/sum(df_female_by)\n",
    "#print df_male_by.values"
   ]
  },
  {
   "cell_type": "code",
   "execution_count": 64,
   "metadata": {
    "collapsed": false
   },
   "outputs": [
    {
     "data": {
      "text/plain": [
       "<matplotlib.text.Text at 0x7d8a8550>"
      ]
     },
     "execution_count": 64,
     "metadata": {},
     "output_type": "execute_result"
    },
    {
     "data": {
      "image/png": "[encoded data removed]",
      "text/plain": [
       "<matplotlib.figure.Figure at 0x72073e48>"
      ]
     },
     "metadata": {},
     "output_type": "display_data"
    }
   ],
   "source": [
    "fig, ax = plt.subplots(figsize=(10,5))\n",
    "ax.plot(df_male_by.index.values,df_male_by.values, 'o',label='males')\n",
    "ax.plot(df_female_by.index.values,df_female_by.values, 'o',label='females')\n",
    "legend = ax.legend(loc='upper left', shadow=True)\n",
    "plt.ylabel('counts')\n",
    "plt.xlabel('birth year')"
   ]
  },
  {
   "cell_type": "markdown",
   "metadata": {},
   "source": [
    "Ok.  We normalize the two distributions here, keeping in mind that we already know there are more male than female rides.  It appears that the two populations have different age distributions.  Rides taken by females tend to be slightly younger than male riders.  Both appear to be non-gaussian in shape, and by eye look as if each can be decomposed into two gaussians.  It would be interesting to investigate this further and see if there are two major age groups that ride.\n",
    "\n",
    "Next we investigate the distribution of the start time of the ride, broken down by hour."
   ]
  },
  {
   "cell_type": "code",
   "execution_count": 105,
   "metadata": {
    "collapsed": false
   },
   "outputs": [],
   "source": [
    "from datetime import datetime\n",
    "\n",
    "result_time = result\n",
    "result_time['starttime'] = pandas.to_datetime(result_time['starttime'], format='%Y-%m-%d %H:%M:%S')\n",
    "result_time['starttime'] = result_time['starttime'].apply(lambda x: x.hour)\n",
    "\n",
    "df_times = result_time['starttime'].value_counts()\n",
    "#print df_times"
   ]
  },
  {
   "cell_type": "code",
   "execution_count": 98,
   "metadata": {
    "collapsed": false
   },
   "outputs": [
    {
     "data": {
      "text/plain": [
       "<matplotlib.text.Text at 0x38c109e8>"
      ]
     },
     "execution_count": 98,
     "metadata": {},
     "output_type": "execute_result"
    },
    {
     "data": {
      "image/png": "[encoded data removed]",
      "text/plain": [
       "<matplotlib.figure.Figure at 0x6c0543c8>"
      ]
     },
     "metadata": {},
     "output_type": "display_data"
    }
   ],
   "source": [
    "fig, ax = plt.subplots(figsize=(10,5))\n",
    "ax.plot(df_times.index.values,df_times.values, 'o')\n",
    "legend = ax.legend(loc='upper left', shadow=True)\n",
    "plt.ylabel('counts')\n",
    "plt.xlabel('starttime hour')"
   ]
  },
  {
   "cell_type": "markdown",
   "metadata": {},
   "source": [
    "It looks as though there are two major spikes in ride start time, one around 8 or 9am and the other around 6pm.  This most likely corresponds to the start and end of the normal workday, indicating that many people use the bike system to get back and forth from work.  Though this cannot account for all use, since the 6pm peak is higher than the 8am peak.  It might be interesting to look at this more diffentially, say the distribution on weekends as opposed to weekends.  Maybe even break it down by season.\n",
    "\n",
    "Now let us look at some differences between round trip and single trip rides.  Round trip is defined as a ride that has the same end station id as start station id."
   ]
  },
  {
   "cell_type": "code",
   "execution_count": 106,
   "metadata": {
    "collapsed": true
   },
   "outputs": [],
   "source": [
    "df_roundtrip = result[result['start station id']==result['end station id']]\n",
    "df_singletrip = result[result['start station id']!=result['end station id']]"
   ]
  },
  {
   "cell_type": "code",
   "execution_count": 129,
   "metadata": {
    "collapsed": false
   },
   "outputs": [
    {
     "name": "stdout",
     "output_type": "stream",
     "text": [
      "398400\n",
      "15116985\n",
      "0.0256777385801\n"
     ]
    }
   ],
   "source": [
    "print df_roundtrip.size\n",
    "print df_singletrip.size\n",
    "\n",
    "print float(df_roundtrip.size)/(float(df_singletrip.size)+float(df_roundtrip.size))"
   ]
  },
  {
   "cell_type": "markdown",
   "metadata": {},
   "source": [
    "As can be seen above, there are many more single trip rides than round trip.  This is not very surprising.  About 2.5% of the total rides are round trip rides."
   ]
  },
  {
   "cell_type": "code",
   "execution_count": 131,
   "metadata": {
    "collapsed": false
   },
   "outputs": [
    {
     "name": "stdout",
     "output_type": "stream",
     "text": [
      " 1383.39506777   4288.69651843\n",
      "892.413274869   1582.48063247\n"
     ]
    }
   ],
   "source": [
    "print df_roundtrip.tripduration.mean(), ' ', df_roundtrip.tripduration.std()\n",
    "print df_singletrip.tripduration.mean(), ' ', df_singletrip.tripduration.std()"
   ]
  },
  {
   "cell_type": "markdown",
   "metadata": {},
   "source": [
    "In the above output, we see that round trip rides are longer on average than single trip rides, thoughthe huge standard deviation is suspicious.  We should look at the distributions.\n",
    "\n",
    "Finally, it would be interesting to get an idea of where people are headed.  Below we plot the direction vector of travel from start station to end station calculated by the lattitude and longitude coordinates of the start and end station."
   ]
  },
  {
   "cell_type": "code",
   "execution_count": 2,
   "metadata": {
    "collapsed": false
   },
   "outputs": [
    {
     "name": "stdout",
     "output_type": "stream",
     "text": [
      "40.770513\n",
      "40.680342423\n",
      "-73.9500479759\n",
      "-74.01713445\n",
      "[[ 40.73532427 -73.99800419  40.71542197 -74.01121978]\n",
      " [ 40.7218158  -73.99720307  40.73704984 -73.99009296]\n",
      " [ 40.76340613 -73.97722479  40.739323   -74.008119  ]\n",
      " ..., \n",
      " [ 40.73028666 -73.9907647   40.74206539 -74.00443172]\n",
      " [ 40.76030096 -73.99884222  40.75320159 -73.9779874 ]\n",
      " [ 40.70834698 -74.01713445  40.70834698 -74.01713445]]\n"
     ]
    }
   ],
   "source": [
    "import numpy as np\n",
    "\n",
    "#print result\n",
    "\n",
    "#soa = np.array(result[['start station latitude','start station longitude','end station latitude','end station longitude']])\n",
    "soa = np.array(result[['start station latitude','start station longitude','end station latitude','end station longitude']].values)\n",
    "X,Y,U,V = zip(*soa)\n",
    "\n",
    "print max(X)\n",
    "print min(X)\n",
    "print max(Y)\n",
    "print min(Y)\n",
    "\n",
    "print soa"
   ]
  },
  {
   "cell_type": "code",
   "execution_count": 3,
   "metadata": {
    "collapsed": false
   },
   "outputs": [],
   "source": [
    "import matplotlib.pyplot as plt\n",
    "%matplotlib inline"
   ]
  },
  {
   "cell_type": "code",
   "execution_count": null,
   "metadata": {
    "collapsed": false
   },
   "outputs": [],
   "source": [
    "\n",
    "#X = 0\n",
    "#Y = 0\n",
    "#U = 5\n",
    "#V = 10\n",
    "plt.figure(figsize=(20,10))\n",
    "ax = plt.gca()\n",
    "ax.quiver(X,Y,U,V,angles='xy',scale_units='xy',scale=1)\n",
    "ax.set_xlim([min([min(U),min(X)]),max([max(X),max(U)])])\n",
    "ax.set_ylim([min([min(V),min(Y)]),max([max(V),max(Y)])])\n",
    "plt.draw()\n",
    "plt.show()"
   ]
  }
 ],
 "metadata": {
  "kernelspec": {
   "display_name": "Python 2",
   "language": "python",
   "name": "python2"
  },
  "language_info": {
   "codemirror_mode": {
    "name": "ipython",
    "version": 2
   },
   "file_extension": ".py",
   "mimetype": "text/x-python",
   "name": "python",
   "nbconvert_exporter": "python",
   "pygments_lexer": "ipython2",
   "version": "2.7.8"
  }
 },
 "nbformat": 4,
 "nbformat_minor": 0
}
